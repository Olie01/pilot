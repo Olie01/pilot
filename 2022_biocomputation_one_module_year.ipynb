{
  "nbformat": 4,
  "nbformat_minor": 0,
  "metadata": {
    "colab": {
      "provenance": [],
      "collapsed_sections": [],
      "authorship_tag": "ABX9TyMB6ES9AKQiQ8EEfOjBCgTF"
    },
    "kernelspec": {
      "name": "python3",
      "display_name": "Python 3"
    },
    "language_info": {
      "name": "python"
    }
  },
  "cells": [
    {
      "cell_type": "markdown",
      "source": [],
      "metadata": {
        "id": "3wCfqa_fhQhc"
      }
    },
    {
      "cell_type": "markdown",
      "source": [
        "**FUNCTIONS**"
      ],
      "metadata": {
        "id": "z3zjOupchM9r"
      }
    },
    {
      "cell_type": "code",
      "execution_count": null,
      "metadata": {
        "id": "Q3ZiON9NwCGl"
      },
      "outputs": [],
      "source": [
        "import random,copy,math\n",
        "#___________________________________________\n",
        "class individual:\n",
        "  def __init__(self):\n",
        "    self.gene = [0]*N\n",
        "    self.fitness = 0\n",
        "  #________________________\n",
        "  def work3_basicequation(self):\n",
        "    equ = 0\n",
        "    for i in range(1,len(self.gene)):\n",
        "      equ += self.gene[i]\n",
        "    self.fitness = equ\n",
        "  #________________________\n",
        "  def work3_minimisationtest(self):\n",
        "    equ = 0\n",
        "    n = 10\n",
        "    for i in range(1,len(self.gene)):\n",
        "      equ += self.gene[i]*self.gene[i] - 10 * math.cos(2*math.pi*self.gene[i])\n",
        "    self.fitness = 10* n + equ\n",
        "  #________________________\n",
        "  def getFitness(self):\n",
        "    return self.fitness\n",
        "#___________________________________________\n",
        "def initialize_population():\n",
        "  global population,offspring\n",
        "  for x in range (0, P):\n",
        "    tempgene=[]\n",
        "    for x in range (0, N):\n",
        "      tempgene.append(random.uniform(RANGE_MIN,RANGE_MAX ))\n",
        "    newind = individual()\n",
        "    newind.gene = tempgene.copy()\n",
        "    population.append(newind)\n",
        "  for i in population:\n",
        "    i.work3_basicequation()\n",
        "  offspring = copy.deepcopy(population)\n",
        "#___________________________________________\n",
        "def tournamentSelection():\n",
        "  global offspring,population\n",
        "  for i in range (0, P):\n",
        "    parent1 = random.randint( 0, P-1 )\n",
        "    off1 = population[parent1]\n",
        "    parent2 = random.randint( 0, P-1 )\n",
        "    off2 = population[parent2]\n",
        "    if off1.fitness < off2.fitness:\n",
        "      offspring.append( off1 )\n",
        "    else:\n",
        "      offspring.append( off2 )\n",
        "#___________________________________________\n",
        "def roulette_wheel():\n",
        "  global offspring,population\n",
        "  population_fitness = 0\n",
        "  for individual in population:\n",
        "    if individual.fitness != 0:\n",
        "      population_fitness += (1/individual.fitness)\n",
        "  for i in range(P):\n",
        "    selection_point = random.uniform(0,population_fitness)\n",
        "    running_total = 0\n",
        "    j=0\n",
        "    while running_total <= selection_point and j < len(population):\n",
        "      if population[j].fitness !=0:\n",
        "        running_total += (1/(population[j].fitness))\n",
        "      j+=1\n",
        "    offspring.append(population[j-1])\n",
        "#___________________________________________\n",
        "def recombine():\n",
        "  temp = individual()\n",
        "  for i in range(0,P,2):\n",
        "    for j in range(0,N):\n",
        "      temp.gene[j] = offspring[i].gene[j]\n",
        "      crosspoint = random.randint( 0, N-1)\n",
        "    for j in range(crosspoint,N):\n",
        "      offspring[i].gene[j] = offspring[i+1].gene[j]\n",
        "      offspring[i+1].gene[j] = temp.gene[j]\n",
        "#___________________________________________\n",
        "def mutate():\n",
        "  for i in range(0,P):\n",
        "    for j in range(0,N):\n",
        "      if random.random() < Mu_Rate :\n",
        "        alter = random.uniform(0,MUT_Step)\n",
        "        if random.random()%2:\n",
        "          offspring[i].gene[j] = offspring[i].gene[j]+alter;\n",
        "          if offspring[i].gene[j] > 1.0:\n",
        "            offspring[i].gene[j] = 1.0\n",
        "        else:\n",
        "          offspring[i].gene[j] = offspring[i].gene[j]-alter \n",
        "          if offspring[i].gene[j] < 0.0:\n",
        "            offspring[i].gene[j] = 0.0\n",
        "  for i in offspring:\n",
        "    i.work3_basicequation()\n",
        "#___________________________________________\n",
        "def listOfFitness(offspring):\n",
        "  Fitness= []\n",
        "  offspring_fitness = 0\n",
        "  for i in offspring:\n",
        "    offspring_fitness +=i.getFitness()\n",
        "  return offspring_fitness\n",
        "#___________________________________________\n",
        "def best_offspring_low(offspring):\n",
        "  global best_offspring\n",
        "  best_offspring = offspring[0]\n",
        "  best_Fitness =  offspring[0].fitness\n",
        "  for i in offspring:\n",
        "    if i.fitness < best_offspring.fitness:\n",
        "      best_offspring = i\n",
        "      best_Fitness = i.fitness\n",
        "  return best_offspring\n",
        "#___________________________________________\n"
      ]
    },
    {
      "cell_type": "markdown",
      "source": [
        "**ALTERING VARIABLES**"
      ],
      "metadata": {
        "id": "dvfRtR4jhS0y"
      }
    },
    {
      "cell_type": "code",
      "source": [
        "population,offspring,meanFitness,Best_fitness,offspring = [],[],[],[],[]\n",
        "P,N,Generations = 50,50,50\n",
        "Mu_Rate = 0.1\n",
        "MUT_Step = 0.01\n",
        "RANGE_MIN = -10\n",
        "RANGE_MAX = 10\n",
        "X = 0\n",
        "best_Fitness,worst_offspring = 0,0\n",
        "population2  = []"
      ],
      "metadata": {
        "id": "tfOiFRzX6wza"
      },
      "execution_count": null,
      "outputs": []
    },
    {
      "cell_type": "markdown",
      "source": [
        "**WORKSHEET 3 BASIC EQUATION**"
      ],
      "metadata": {
        "id": "RltjIUxqkDMz"
      }
    },
    {
      "cell_type": "code",
      "source": [
        "initialize_population()\n",
        "best_offspring_low(population)\n",
        "population2 = population\n",
        "for i in range(0,Generations):\n",
        "  tournamentSelection()\n",
        "  recombine()\n",
        "  mutate()\n",
        "  \n",
        "  for j in range(1,len(offspring)):\n",
        "    if offspring[j].fitness > offspring[worst_offspring].fitness:\n",
        "      worst_offspring = j\n",
        "  offspring[worst_offspring] = best_offspring\n",
        "  \n",
        "  bestOffspring = best_offspring_low(offspring)\n",
        "  Best_fitness.append(bestOffspring.fitness)\n",
        "  population = copy.deepcopy(offspring)\n",
        "  meanFitness.append(listOfFitness(offspring)/P)\n",
        "  offspring = []"
      ],
      "metadata": {
        "id": "SqMoVxhodLne"
      },
      "execution_count": null,
      "outputs": []
    },
    {
      "cell_type": "code",
      "source": [
        "from matplotlib import pyplot as plt\n",
        "mean, = plt.plot(meanFitness,'r')\n",
        "mean.set_label(\"Mean\")\n",
        "best, = plt.plot(Best_fitness,'b')\n",
        "best.set_label(\"Best\")\n",
        "plt.title('GA Graph')\n",
        "plt.xlabel('Generation')\n",
        "plt.ylabel('Fitness')\n",
        "plt.legend()\n",
        "\n",
        "plt.show()"
      ],
      "metadata": {
        "colab": {
          "base_uri": "https://localhost:8080/",
          "height": 295
        },
        "id": "CJOBsBV-dTag",
        "outputId": "a17482b0-d7a2-4697-ffdc-8f880a7eb117"
      },
      "execution_count": null,
      "outputs": [
        {
          "output_type": "display_data",
          "data": {
            "text/plain": [
              "<Figure size 432x288 with 1 Axes>"
            ],
            "image/png": "[encoded data removed]"
          },
          "metadata": {
            "needs_background": "light"
          }
        }
      ]
    },
    {
      "cell_type": "markdown",
      "source": [
        "**WORKSHEET 3 MINISATION EQUATION** - CHANGED EQUATION AND VARIABLES"
      ],
      "metadata": {
        "id": "9LT5Xq_kaslc"
      }
    },
    {
      "cell_type": "code",
      "source": [
        "#___________________________________________\n",
        "def initialize_population():\n",
        "  global population,offspring\n",
        "  for x in range (0, P):\n",
        "    tempgene=[]\n",
        "    for x in range (0, N):\n",
        "      tempgene.append(random.uniform(RANGE_MIN,RANGE_MAX ))\n",
        "    newind = individual()\n",
        "    newind.gene = tempgene.copy()\n",
        "    population.append(newind)\n",
        "  for i in population:\n",
        "    i.work3_basicequation()\n",
        "  offspring = copy.deepcopy(population)\n",
        "#___________________________________________\n",
        "def mutate():\n",
        "  for i in range(0,P):\n",
        "    for j in range(0,N):\n",
        "      if random.random() < Mu_Rate :\n",
        "        alter = random.uniform(0,MUT_Step)\n",
        "        if random.random()%2:\n",
        "          offspring[i].gene[j] = offspring[i].gene[j]+alter;\n",
        "          if offspring[i].gene[j] > 1.0:\n",
        "            offspring[i].gene[j] = 1.0\n",
        "        else:\n",
        "          offspring[i].gene[j] = offspring[i].gene[j]-alter \n",
        "          if offspring[i].gene[j] < 0.0:\n",
        "            offspring[i].gene[j] = 0.0\n",
        "  for i in offspring:\n",
        "    i.work3_basicequation()\n",
        "#___________________________________________"
      ],
      "metadata": {
        "id": "wN7zq4LxFNrI"
      },
      "execution_count": null,
      "outputs": []
    },
    {
      "cell_type": "markdown",
      "source": [
        "**VARIABLES**"
      ],
      "metadata": {
        "id": "Farc7ZkTOLPu"
      }
    },
    {
      "cell_type": "code",
      "source": [
        "population,offspring,meanFitness,Best_fitness,offspring = [],[],[],[],[]\n",
        "P,N,Generations = 50,50,50\n",
        "Mu_Rate = 0.1\n",
        "MUT_Step = 0.01\n",
        "RANGE_MIN = -5.12\n",
        "RANGE_MAX = 5.12\n",
        "X = 0\n",
        "best_Fitness,worst_offspring = 0,0\n",
        "population2  = []"
      ],
      "metadata": {
        "id": "PBxe6lVjZ0Ul"
      },
      "execution_count": null,
      "outputs": []
    },
    {
      "cell_type": "code",
      "source": [
        "initialize_population()\n",
        "best_offspring_low(population)\n",
        "population2 = population\n",
        "for i in range(0,Generations):\n",
        "  tournamentSelection()\n",
        "  recombine()\n",
        "  mutate()\n",
        "  \n",
        "  for j in range(1,len(offspring)):\n",
        "    if offspring[j].fitness > offspring[worst_offspring].fitness:\n",
        "      worst_offspring = j\n",
        "  offspring[worst_offspring] = best_offspring\n",
        "  \n",
        "  bestOffspring = best_offspring_low(offspring)\n",
        "  Best_fitness.append(bestOffspring.fitness)\n",
        "  population = copy.deepcopy(offspring)\n",
        "  meanFitness.append(listOfFitness(offspring)/P)\n",
        "  offspring = []"
      ],
      "metadata": {
        "id": "ldcRL5gqZ1q8"
      },
      "execution_count": null,
      "outputs": []
    },
    {
      "cell_type": "code",
      "source": [
        "from matplotlib import pyplot as plt\n",
        "mean, = plt.plot(meanFitness,'r')\n",
        "mean.set_label(\"Mean\")\n",
        "best, = plt.plot(Best_fitness,'b')\n",
        "best.set_label(\"Best\")\n",
        "plt.title('GA Graph')\n",
        "plt.xlabel('Generation')\n",
        "plt.ylabel('Fitness')\n",
        "plt.legend()\n",
        "\n",
        "plt.show()"
      ],
      "metadata": {
        "colab": {
          "base_uri": "https://localhost:8080/",
          "height": 295
        },
        "id": "6Hcd8s8AZ54_",
        "outputId": "b7ea441c-455a-4d4f-e3e2-6ab372e2418e"
      },
      "execution_count": null,
      "outputs": [
        {
          "output_type": "display_data",
          "data": {
            "text/plain": [
              "<Figure size 432x288 with 1 Axes>"
            ],
            "image/png": "[encoded data removed]"
          },
          "metadata": {
            "needs_background": "light"
          }
        }
      ]
    }
  ]
}